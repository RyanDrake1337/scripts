{
 "cells": [
  {
   "cell_type": "code",
   "execution_count": 1,
   "id": "12eac7a4-8a59-4156-9a49-94ff3dabf6ab",
   "metadata": {},
   "outputs": [],
   "source": [
    "import pandas as pd\n",
    "import sqlite3\n",
    "import random\n",
    "from datetime import datetime, timedelta"
   ]
  },
  {
   "cell_type": "code",
   "execution_count": 2,
   "id": "27da9ce1-6874-4d25-b825-5200e27622a2",
   "metadata": {},
   "outputs": [],
   "source": [
    "DB_PATH = \"/home/drake/scripts/sql_python_files/derp1.db\"\n",
    "conn = sqlite3.connect(DB_PATH)\n",
    "cur = conn.cursor()"
   ]
  },
  {
   "cell_type": "code",
   "execution_count": 3,
   "id": "46c5bff6-99d8-45b0-8013-6e16240e5037",
   "metadata": {},
   "outputs": [
    {
     "name": "stdout",
     "output_type": "stream",
     "text": [
      "           name\n",
      "0      app_logs\n",
      "1   auth_events\n",
      "2   deployments\n",
      "3  request_logs\n",
      "4         users\n"
     ]
    }
   ],
   "source": [
    "tquery = pd.read_sql_query(\"\"\"\n",
    "SELECT name\n",
    "FROM sqlite_master\n",
    "WHERE type='table'\n",
    "ORDER BY name;\n",
    "\"\"\", conn)\n",
    "print(tquery)"
   ]
  },
  {
   "cell_type": "code",
   "execution_count": 4,
   "id": "08b910b3-d889-4385-8b0e-ec061f55b967",
   "metadata": {},
   "outputs": [
    {
     "name": "stdout",
     "output_type": "stream",
     "text": [
      " cid       name    type  notnull dflt_value  pk\n",
      "   0         ts    TEXT        0       None   0\n",
      "   1    service    TEXT        0       None   0\n",
      "   2        env    TEXT        0       None   0\n",
      "   3   endpoint    TEXT        0       None   0\n",
      "   4    user_id INTEGER        0       None   0\n",
      "   5     status INTEGER        0       None   0\n",
      "   6 latency_ms INTEGER        0       None   0\n",
      "   7 bytes_sent INTEGER        0       None   0\n",
      "   8   trace_id    TEXT        0       None   0\n",
      "   9      attrs    TEXT        0       None   0\n"
     ]
    }
   ],
   "source": [
    "# Get table structure info\n",
    "pragma_df = pd.read_sql_query(\"PRAGMA table_info(request_logs);\", conn)\n",
    "print(pragma_df.to_string(index=False))"
   ]
  },
  {
   "cell_type": "code",
   "execution_count": null,
   "id": "a8f6d770-6634-451c-9e62-fbaed97e2693",
   "metadata": {},
   "outputs": [],
   "source": []
  }
 ],
 "metadata": {
  "kernelspec": {
   "display_name": "Python 3 (ipykernel)",
   "language": "python",
   "name": "python3"
  },
  "language_info": {
   "codemirror_mode": {
    "name": "ipython",
    "version": 3
   },
   "file_extension": ".py",
   "mimetype": "text/x-python",
   "name": "python",
   "nbconvert_exporter": "python",
   "pygments_lexer": "ipython3",
   "version": "3.12.3"
  }
 },
 "nbformat": 4,
 "nbformat_minor": 5
}
