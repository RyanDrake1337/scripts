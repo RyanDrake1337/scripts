{
 "cells": [
  {
   "cell_type": "code",
   "execution_count": 56,
   "id": "9f23782f-346c-439a-99b2-27a24de15912",
   "metadata": {},
   "outputs": [],
   "source": [
    "import pandas as pd\n",
    "import sqlite3\n",
    "import random\n",
    "from datetime import datetime, timedelta"
   ]
  },
  {
   "cell_type": "code",
   "execution_count": 59,
   "id": "59b926a2-bd7c-4e16-bb69-1b1f61924b96",
   "metadata": {},
   "outputs": [],
   "source": [
    "DB_PATH = \"/home/drake/scripts/sql_python_files/derp1.db\"\n",
    "conn = sqlite3.connect(DB_PATH)\n",
    "cur = conn.cursor()"
   ]
  },
  {
   "cell_type": "code",
   "execution_count": 58,
   "id": "5f515863-2cff-44ff-bb18-0d6f43395bb1",
   "metadata": {},
   "outputs": [
    {
     "name": "stdout",
     "output_type": "stream",
     "text": [
      "Inserted 20,000 rows into auth_events\n"
     ]
    }
   ],
   "source": [
    "# Example events to choose from\n",
    "EVENTS = [\"login_success\", \"login_failure\", \"password_reset\", \"logout\"]\n",
    "USER_AGENTS = [\n",
    "    \"Mozilla/5.0 (Windows NT 10.0; Win64; x64)\",\n",
    "    \"Mozilla/5.0 (X11; Ubuntu; Linux x86_64)\",\n",
    "    \"Mozilla/5.0 (Macintosh; Intel Mac OS X 10_15_7)\",\n",
    "    \"curl/8.4.0\",\n",
    "    \"python-requests/2.31.0\"\n",
    "]\n",
    "IPS = [\n",
    "    \"192.168.1.{}\".format(i) for i in range(1, 255)\n",
    "] + [\"10.0.0.{}\".format(i) for i in range(1, 255)]\n",
    "\n",
    "def random_time():\n",
    "    # spread data over the last 90 days\n",
    "    start = datetime.now() - timedelta(days=90)\n",
    "    random_minutes = random.randint(0, 90 * 24 * 60)\n",
    "    return (start + timedelta(minutes=random_minutes)).isoformat()\n",
    "\n",
    "rows_to_insert = []\n",
    "for i in range(20000):  # 20k rows\n",
    "    ts = random_time()\n",
    "    user_id = random.randint(1, 500)  # 500 fake users\n",
    "    event = random.choice(EVENTS)\n",
    "    ip = random.choice(IPS)\n",
    "    user_agent = random.choice(USER_AGENTS)\n",
    "    rows_to_insert.append((ts, user_id, event, ip, user_agent))\n",
    "\n",
    "cur.executemany(\"\"\"\n",
    "INSERT INTO auth_events (ts, user_id, event, ip, user_agent)\n",
    "VALUES (?, ?, ?, ?, ?)\n",
    "\"\"\", rows_to_insert)\n",
    "\n",
    "print(\"Inserted 20,000 rows into auth_events\")"
   ]
  },
  {
   "cell_type": "code",
   "execution_count": 95,
   "id": "4ad8abff-0f7e-4656-918d-5f62a41a198d",
   "metadata": {},
   "outputs": [
    {
     "ename": "OperationalError",
     "evalue": "table users has no column named username",
     "output_type": "error",
     "traceback": [
      "\u001b[31m---------------------------------------------------------------------------\u001b[39m",
      "\u001b[31mOperationalError\u001b[39m                          Traceback (most recent call last)",
      "\u001b[36mCell\u001b[39m\u001b[36m \u001b[39m\u001b[32mIn[95]\u001b[39m\u001b[32m, line 22\u001b[39m\n\u001b[32m     19\u001b[39m     status = random.choice(STATUSES)\n\u001b[32m     20\u001b[39m     rows_to_insert.append((user_id, username, email, created_at, status))\n\u001b[32m---> \u001b[39m\u001b[32m22\u001b[39m \u001b[43mcur\u001b[49m\u001b[43m.\u001b[49m\u001b[43mexecutemany\u001b[49m\u001b[43m(\u001b[49m\u001b[33;43m\"\"\"\u001b[39;49m\n\u001b[32m     23\u001b[39m \u001b[33;43mINSERT INTO users (id, username, email, created_at, status)\u001b[39;49m\n\u001b[32m     24\u001b[39m \u001b[33;43mVALUES (?, ?, ?, ?, ?)\u001b[39;49m\n\u001b[32m     25\u001b[39m \u001b[33;43m\"\"\"\u001b[39;49m\u001b[43m,\u001b[49m\u001b[43m \u001b[49m\u001b[43mrows_to_insert\u001b[49m\u001b[43m)\u001b[49m\n\u001b[32m     27\u001b[39m \u001b[38;5;28mprint\u001b[39m(\u001b[33m\"\u001b[39m\u001b[33mInserted 20,000 rows into users\u001b[39m\u001b[33m\"\u001b[39m)\n",
      "\u001b[31mOperationalError\u001b[39m: table users has no column named username"
     ]
    }
   ],
   "source": [
    "DB_PATH = \"/home/drake/scripts/sql_python_files/derp1.db\"\n",
    "\n",
    "conn = sqlite3.connect(DB_PATH)\n",
    "cur = conn.cursor()\n",
    "\n",
    "STATUSES = [\"active\", \"inactive\", \"locked\"]\n",
    "\n",
    "def random_time():\n",
    "    start = datetime.now() - timedelta(days=365)  # last year\n",
    "    random_days = random.randint(0, 365)\n",
    "    return (start + timedelta(days=random_days)).isoformat()\n",
    "\n",
    "rows_to_insert = []\n",
    "for i in range(20000):\n",
    "    user_id = i + 1\n",
    "    username = f\"user{user_id}\"\n",
    "    email = f\"user{user_id}@example.com\"\n",
    "    created_at = random_time()\n",
    "    status = random.choice(STATUSES)\n",
    "    rows_to_insert.append((user_id, username, email, created_at, status))\n",
    "\n",
    "cur.executemany(\"\"\"\n",
    "INSERT INTO users (id, username, email, created_at, status)\n",
    "VALUES (?, ?, ?, ?, ?)\n",
    "\"\"\", rows_to_insert)\n",
    "\n",
    "print(\"Inserted 20,000 rows into users\")"
   ]
  },
  {
   "cell_type": "code",
   "execution_count": 60,
   "id": "b51f3e6e-aeb1-48df-b123-5ea1e1184158",
   "metadata": {},
   "outputs": [
    {
     "name": "stdout",
     "output_type": "stream",
     "text": [
      "           name\n",
      "0      app_logs\n",
      "1   auth_events\n",
      "2   deployments\n",
      "3  request_logs\n",
      "4         users\n"
     ]
    }
   ],
   "source": [
    "tquery = pd.read_sql_query(\"\"\"\n",
    "SELECT name\n",
    "FROM sqlite_master\n",
    "WHERE type='table'\n",
    "ORDER BY name;\n",
    "\"\"\", conn)\n",
    "print(tquery)"
   ]
  },
  {
   "cell_type": "code",
   "execution_count": 61,
   "id": "79ea33df-99de-4949-82b0-30e7f88359d5",
   "metadata": {},
   "outputs": [
    {
     "name": "stdout",
     "output_type": "stream",
     "text": [
      " cid       name    type  notnull dflt_value  pk\n",
      "   0         ts    TEXT        0       None   0\n",
      "   1    service    TEXT        0       None   0\n",
      "   2        env    TEXT        0       None   0\n",
      "   3   endpoint    TEXT        0       None   0\n",
      "   4    user_id INTEGER        0       None   0\n",
      "   5     status INTEGER        0       None   0\n",
      "   6 latency_ms INTEGER        0       None   0\n",
      "   7 bytes_sent INTEGER        0       None   0\n",
      "   8   trace_id    TEXT        0       None   0\n",
      "   9      attrs    TEXT        0       None   0\n"
     ]
    }
   ],
   "source": [
    "# Get table structure info\n",
    "pragma_df = pd.read_sql_query(\"PRAGMA table_info(request_logs);\", conn)\n",
    "print(pragma_df.to_string(index=False))"
   ]
  },
  {
   "cell_type": "code",
   "execution_count": 93,
   "id": "b5a2de74-3f7d-427a-aaf7-ba33361d1a43",
   "metadata": {},
   "outputs": [
    {
     "name": "stdout",
     "output_type": "stream",
     "text": [
      "gj\n"
     ]
    }
   ],
   "source": [
    "import sqlite3, random\n",
    "from datetime import datetime, timedelta, timezone\n",
    "\n",
    "DB_PATH = \"/home/drake/scripts/sql_python_files/derp1.db\"\n",
    "conn = sqlite3.connect(DB_PATH)\n",
    "cur = conn.cursor()\n",
    "\n",
    "EVENTS = [\"login_success\", \"login_failure\", \"password_reset\", \"locked_account\"]\n",
    "IPS = [\"192.168.1.10\", \"203.0.113.55\", \"10.0.0.77\", \"198.51.100.23\"]\n",
    "AGENTS = [\"Firefox\", \"Chrome\", \"Safari\", \"Edge\"]\n",
    "\n",
    "def random_time():\n",
    "    start = datetime.now(timezone.utc) - timedelta(days=30)\n",
    "    random_minutes = random.randint(0, 60*24*30)\n",
    "    return (start + timedelta(minutes=random_minutes)).isoformat()\n",
    "\n",
    "rows_to_insert = []\n",
    "for _ in range(5000):\n",
    "    user_id = random.randint(1, 200)   # assume ~200 users\n",
    "    event = random.choice(EVENTS)\n",
    "    ip = random.choice(IPS)\n",
    "    agent = random.choice(AGENTS)\n",
    "    ts = random_time()\n",
    "    rows_to_insert.append((user_id, event, ip, agent, ts))\n",
    "\n",
    "cur.executemany(\"\"\"\n",
    "INSERT INTO auth_events (user_id, event, ip, user_agent, ts)\n",
    "VALUES (?, ?, ?, ?, ?)\n",
    "\"\"\", rows_to_insert)\n",
    "\n",
    "print(\"gj\")"
   ]
  },
  {
   "cell_type": "code",
   "execution_count": 63,
   "id": "2713b584-25d0-4b43-93d8-3af6c7371cd1",
   "metadata": {},
   "outputs": [
    {
     "name": "stdout",
     "output_type": "stream",
     "text": [
      "   COUNT(*)\n",
      "0        16\n"
     ]
    }
   ],
   "source": [
    "query5 = pd.read_sql_query(\"\"\"\n",
    "SELECT COUNT(*)\n",
    "FROM request_logs;\n",
    "\"\"\", conn)\n",
    "\n",
    "print(query5)"
   ]
  },
  {
   "cell_type": "code",
   "execution_count": 64,
   "id": "f29e278c-38f3-4b07-b72f-1ec8ea64c0e4",
   "metadata": {},
   "outputs": [
    {
     "name": "stdout",
     "output_type": "stream",
     "text": [
      "    env  COUNT(*)\n",
      "0  prod        14\n"
     ]
    }
   ],
   "source": [
    "query6 = pd.read_sql_query(\"\"\"\n",
    "SELECT env,COUNT(*)\n",
    "FROM request_logs\n",
    "WHERE env=\"prod\"\n",
    "GROUP BY env;\n",
    "\"\"\", conn)\n",
    "print(query6)"
   ]
  },
  {
   "cell_type": "code",
   "execution_count": 65,
   "id": "0cadf9ea-0dfe-4ac5-83da-fecbbf553051",
   "metadata": {},
   "outputs": [
    {
     "name": "stdout",
     "output_type": "stream",
     "text": [
      "           name\n",
      "0  request_logs\n",
      "1      app_logs\n",
      "2   auth_events\n",
      "3   deployments\n",
      "4         users\n"
     ]
    }
   ],
   "source": [
    "query7 = pd.read_sql_query(\"\"\"\n",
    "SELECT name\n",
    "FROM sqlite_master\n",
    "WHERE type='table'\n",
    "\"\"\", conn)\n",
    "print(query7)"
   ]
  },
  {
   "cell_type": "code",
   "execution_count": 66,
   "id": "6f056f2a-605f-4eb0-ad63-a91e25538979",
   "metadata": {},
   "outputs": [
    {
     "name": "stdout",
     "output_type": "stream",
     "text": [
      "                                     ts  user_id           event  \\\n",
      "0      2025-08-30T23:30:30.146440+00:00        1   LOGIN_SUCCESS   \n",
      "1      2025-08-30T23:35:30.146443+00:00        2   LOGIN_FAILURE   \n",
      "2      2025-08-30T23:40:30.146445+00:00        2   LOGIN_SUCCESS   \n",
      "3      2025-08-31T05:54:06.253543+00:00        2   LOGIN_SUCCESS   \n",
      "4      2025-08-31T05:52:06.254342+00:00        3   LOGIN_SUCCESS   \n",
      "...                                 ...      ...             ...   \n",
      "40005        2025-06-23T20:12:51.225162      101  password_reset   \n",
      "40006        2025-06-11T00:58:51.225165      107  password_reset   \n",
      "40007        2025-06-29T10:36:51.225167      143          logout   \n",
      "40008        2025-08-28T01:42:51.225169      111  password_reset   \n",
      "40009        2025-06-23T21:35:51.225172      363          logout   \n",
      "\n",
      "                  ip                                       user_agent  \n",
      "0       203.0.113.10                                      Mozilla/5.0  \n",
      "1       203.0.113.11                                      Mozilla/5.0  \n",
      "2       203.0.113.11                                      Mozilla/5.0  \n",
      "3      198.51.100.23                  Mozilla/5.0 (X11; Linux x86_64)  \n",
      "4       203.0.113.77          Mozilla/5.0 (Macintosh; Intel Mac OS X)  \n",
      "...              ...                                              ...  \n",
      "40005     10.0.0.160  Mozilla/5.0 (Macintosh; Intel Mac OS X 10_15_7)  \n",
      "40006   192.168.1.53        Mozilla/5.0 (Windows NT 10.0; Win64; x64)  \n",
      "40007  192.168.1.239  Mozilla/5.0 (Macintosh; Intel Mac OS X 10_15_7)  \n",
      "40008   192.168.1.90                           python-requests/2.31.0  \n",
      "40009  192.168.1.156  Mozilla/5.0 (Macintosh; Intel Mac OS X 10_15_7)  \n",
      "\n",
      "[40010 rows x 5 columns]\n"
     ]
    }
   ],
   "source": [
    "query8 = pd.read_sql_query(\"\"\"\n",
    "SELECT *\n",
    "FROM auth_events\n",
    "\"\"\", conn)\n",
    "print(query8)"
   ]
  },
  {
   "cell_type": "code",
   "execution_count": 67,
   "id": "2410a165-8f0b-456b-926e-002ecdd07933",
   "metadata": {},
   "outputs": [
    {
     "name": "stdout",
     "output_type": "stream",
     "text": [
      "           event  COUNT(*)\n",
      "0  LOGIN_FAILURE         2\n"
     ]
    }
   ],
   "source": [
    "query9 = pd.read_sql_query(\"\"\"\n",
    "SELECT event, COUNT(*)\n",
    "FROM auth_events\n",
    "WHERE event=\"LOGIN_FAILURE\";\n",
    "\"\"\", conn)\n",
    "print(query9)"
   ]
  },
  {
   "cell_type": "code",
   "execution_count": 72,
   "id": "ad68cac0-3544-44db-b9e9-49a1c85541e7",
   "metadata": {},
   "outputs": [
    {
     "name": "stdout",
     "output_type": "stream",
     "text": [
      "                ip          event  count\n",
      "0    198.51.100.23  LOGIN_SUCCESS      2\n",
      "1     203.0.113.10  LOGIN_SUCCESS      2\n",
      "2     203.0.113.77  LOGIN_SUCCESS      2\n",
      "3     203.0.113.11  LOGIN_FAILURE      4\n",
      "4    192.168.1.219         logout     53\n",
      "..             ...            ...    ...\n",
      "507  192.168.1.158  login_failure     99\n",
      "508      10.0.0.55  login_failure    103\n",
      "509      10.0.0.59  login_success    104\n",
      "510     10.0.0.235  login_failure    106\n",
      "511     10.0.0.103  login_failure    108\n",
      "\n",
      "[512 rows x 3 columns]\n"
     ]
    }
   ],
   "source": [
    "query10= pd.read_sql_query(\"\"\"\n",
    "SELECT ip, event, COUNT(*) as count\n",
    "FROM auth_events\n",
    "GROUP BY ip\n",
    "ORDER BY count;\n",
    "\"\"\", conn)\n",
    "print(query10)"
   ]
  },
  {
   "cell_type": "code",
   "execution_count": 77,
   "id": "0dd8bb77-d52d-409a-a054-8d637972ced6",
   "metadata": {},
   "outputs": [
    {
     "name": "stdout",
     "output_type": "stream",
     "text": [
      "            event\n",
      "0   LOGIN_SUCCESS\n",
      "1   LOGIN_FAILURE\n",
      "2          logout\n",
      "3  password_reset\n",
      "4   login_failure\n",
      "5   login_success\n"
     ]
    }
   ],
   "source": [
    "query11 = pd.read_sql_query(\"\"\"\n",
    "SELECT distinct event\n",
    "FROM auth_events;\n",
    "\"\"\", conn)\n",
    "print(query11)"
   ]
  },
  {
   "cell_type": "code",
   "execution_count": 97,
   "id": "3c7820b0-886b-4215-aca1-d99a29bb933a",
   "metadata": {},
   "outputs": [
    {
     "name": "stdout",
     "output_type": "stream",
     "text": [
      "             event             ip  count\n",
      "0    login_failure  192.168.1.181     32\n",
      "1    login_failure  192.168.1.139     32\n",
      "2    login_failure     10.0.0.143     31\n",
      "3    login_failure     10.0.0.131     31\n",
      "4    login_failure  192.168.1.172     30\n",
      "..             ...            ...    ...\n",
      "504  login_failure     10.0.0.134     10\n",
      "505  login_failure  192.168.1.253      9\n",
      "506  login_failure      10.0.0.90      9\n",
      "507  login_failure   192.168.1.53      8\n",
      "508  LOGIN_FAILURE   203.0.113.11      2\n",
      "\n",
      "[509 rows x 3 columns]\n"
     ]
    }
   ],
   "source": [
    "query12 = pd.read_sql_query(\"\"\"\n",
    "SELECT event, ip, count(*) as count\n",
    "FROM auth_events\n",
    "WHERE event=\"login_failure\" or event=\"LOGIN_FAILURE\"\n",
    "GROUP BY ip\n",
    "ORDER BY count DESC;\n",
    "\"\"\", conn)\n",
    "\n",
    "print(query12)"
   ]
  },
  {
   "cell_type": "code",
   "execution_count": 99,
   "id": "d7d77035-98f6-4085-85bb-442090f2ea62",
   "metadata": {},
   "outputs": [
    {
     "name": "stdout",
     "output_type": "stream",
     "text": [
      "                                     ts  user_id           event  \\\n",
      "0      2025-08-30T23:30:30.146440+00:00        1   LOGIN_SUCCESS   \n",
      "1      2025-08-30T23:35:30.146443+00:00        2   LOGIN_FAILURE   \n",
      "2      2025-08-30T23:40:30.146445+00:00        2   LOGIN_SUCCESS   \n",
      "3      2025-08-31T05:54:06.253543+00:00        2   LOGIN_SUCCESS   \n",
      "4      2025-08-31T05:52:06.254342+00:00        3   LOGIN_SUCCESS   \n",
      "...                                 ...      ...             ...   \n",
      "40005        2025-06-23T20:12:51.225162      101  password_reset   \n",
      "40006        2025-06-11T00:58:51.225165      107  password_reset   \n",
      "40007        2025-06-29T10:36:51.225167      143          logout   \n",
      "40008        2025-08-28T01:42:51.225169      111  password_reset   \n",
      "40009        2025-06-23T21:35:51.225172      363          logout   \n",
      "\n",
      "                  ip                                       user_agent  \n",
      "0       203.0.113.10                                      Mozilla/5.0  \n",
      "1       203.0.113.11                                      Mozilla/5.0  \n",
      "2       203.0.113.11                                      Mozilla/5.0  \n",
      "3      198.51.100.23                  Mozilla/5.0 (X11; Linux x86_64)  \n",
      "4       203.0.113.77          Mozilla/5.0 (Macintosh; Intel Mac OS X)  \n",
      "...              ...                                              ...  \n",
      "40005     10.0.0.160  Mozilla/5.0 (Macintosh; Intel Mac OS X 10_15_7)  \n",
      "40006   192.168.1.53        Mozilla/5.0 (Windows NT 10.0; Win64; x64)  \n",
      "40007  192.168.1.239  Mozilla/5.0 (Macintosh; Intel Mac OS X 10_15_7)  \n",
      "40008   192.168.1.90                           python-requests/2.31.0  \n",
      "40009  192.168.1.156  Mozilla/5.0 (Macintosh; Intel Mac OS X 10_15_7)  \n",
      "\n",
      "[40010 rows x 5 columns]\n"
     ]
    }
   ],
   "source": [
    "query13 = pd.read_sql_query(\"\"\"\n",
    "SELECT *\n",
    "FROM auth_events;\n",
    "\"\"\", conn)\n",
    "\n",
    "print(query13)"
   ]
  },
  {
   "cell_type": "code",
   "execution_count": 101,
   "id": "59ec7c8b-79ce-4b4b-8637-2c8cd461369d",
   "metadata": {},
   "outputs": [
    {
     "name": "stdout",
     "output_type": "stream",
     "text": [
      "                ip  user_id           event        plan  \\\n",
      "0     203.0.113.10        1   LOGIN_SUCCESS        free   \n",
      "1     203.0.113.11        2   LOGIN_FAILURE         pro   \n",
      "2     203.0.113.11        2   LOGIN_SUCCESS         pro   \n",
      "3    198.51.100.23        2   LOGIN_SUCCESS         pro   \n",
      "4     203.0.113.77        3   LOGIN_SUCCESS  enterprise   \n",
      "..             ...      ...             ...         ...   \n",
      "254  192.168.1.162        2          logout         pro   \n",
      "255  192.168.1.208        3  password_reset  enterprise   \n",
      "256  192.168.1.250        1   login_success        free   \n",
      "257   192.168.1.90        1   login_success        free   \n",
      "258     10.0.0.226        1   login_success        free   \n",
      "\n",
      "                           created_at  \n",
      "0    2025-07-02T04:30:30.146091+00:00  \n",
      "1    2025-08-24T04:30:30.146107+00:00  \n",
      "2    2025-08-24T04:30:30.146107+00:00  \n",
      "3    2025-08-24T04:30:30.146107+00:00  \n",
      "4    2025-08-30T04:30:30.146110+00:00  \n",
      "..                                ...  \n",
      "254  2025-08-24T04:30:30.146107+00:00  \n",
      "255  2025-08-30T04:30:30.146110+00:00  \n",
      "256  2025-07-02T04:30:30.146091+00:00  \n",
      "257  2025-07-02T04:30:30.146091+00:00  \n",
      "258  2025-07-02T04:30:30.146091+00:00  \n",
      "\n",
      "[259 rows x 5 columns]\n"
     ]
    }
   ],
   "source": [
    "query14 = pd.read_sql_query(\"\"\"\n",
    "SELECT ip, user_id, event, plan, created_at\n",
    "FROM auth_events \n",
    "JOIN users \n",
    "ON auth_events.user_id = users.id;\n",
    "\"\"\", conn)\n",
    "print(query14)"
   ]
  },
  {
   "cell_type": "code",
   "execution_count": 105,
   "id": "52f30ba7-1a1b-4ffc-8351-c540862521c5",
   "metadata": {},
   "outputs": [
    {
     "name": "stdout",
     "output_type": "stream",
     "text": [
      "               ip  user_id          event        plan  count\n",
      "0    203.0.113.11        2  LOGIN_FAILURE         pro      2\n",
      "1   192.168.1.183        3  login_failure  enterprise      2\n",
      "2   192.168.1.172        3  login_failure  enterprise      2\n",
      "3       10.0.0.39        3  login_failure  enterprise      2\n",
      "4      10.0.0.133        1  login_failure        free      2\n",
      "..            ...      ...            ...         ...    ...\n",
      "56     10.0.0.157        1  login_failure        free      1\n",
      "57     10.0.0.151        1  login_failure        free      1\n",
      "58     10.0.0.131        2  login_failure         pro      1\n",
      "59      10.0.0.12        2  login_failure         pro      1\n",
      "60     10.0.0.112        1  login_failure        free      1\n",
      "\n",
      "[61 rows x 5 columns]\n"
     ]
    }
   ],
   "source": [
    "# I want to see number of login failures, for each ip, descending order, user id for those ips, and plan\n",
    "\n",
    "query15 = pd.read_sql_query('''\n",
    "SELECT ip, user_id, event, plan, count(*) as count\n",
    "FROM auth_events\n",
    "JOIN users\n",
    "ON auth_events.user_id = users.id\n",
    "WHERE event = \"LOGIN_FAILURE\" or event = \"login_failure\"\n",
    "GROUP BY ip\n",
    "ORDER BY count desc;\n",
    "''', conn)\n",
    "\n",
    "print(query15)"
   ]
  },
  {
   "cell_type": "code",
   "execution_count": null,
   "id": "81519f28-5c80-4e80-9a8b-fd5167ba934c",
   "metadata": {},
   "outputs": [],
   "source": []
  }
 ],
 "metadata": {
  "kernelspec": {
   "display_name": "Python 3 (ipykernel)",
   "language": "python",
   "name": "python3"
  },
  "language_info": {
   "codemirror_mode": {
    "name": "ipython",
    "version": 3
   },
   "file_extension": ".py",
   "mimetype": "text/x-python",
   "name": "python",
   "nbconvert_exporter": "python",
   "pygments_lexer": "ipython3",
   "version": "3.12.3"
  }
 },
 "nbformat": 4,
 "nbformat_minor": 5
}
